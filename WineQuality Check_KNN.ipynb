{
 "cells": [
  {
   "cell_type": "markdown",
   "metadata": {},
   "source": [
    "----------START----------"
   ]
  },
  {
   "cell_type": "code",
   "execution_count": 1,
   "metadata": {},
   "outputs": [],
   "source": [
    "import pandas as pd\n",
    "import numpy as np\n",
    "import seaborn as sns\n",
    "import matplotlib.pyplot as plt\n",
    "from sklearn import preprocessing\n",
    "from sklearn.model_selection import train_test_split\n",
    "from sklearn.metrics import accuracy_score\n",
    "from sklearn.model_selection import cross_val_score\n",
    "from sklearn.model_selection import GridSearchCV\n",
    "from sklearn.neighbors import KNeighborsClassifier"
   ]
  },
  {
   "cell_type": "markdown",
   "metadata": {},
   "source": [
    "Read the data and insert the column names to the data"
   ]
  },
  {
   "cell_type": "code",
   "execution_count": 2,
   "metadata": {},
   "outputs": [
    {
     "data": {
      "text/html": [
       "<div>\n",
       "<style scoped>\n",
       "    .dataframe tbody tr th:only-of-type {\n",
       "        vertical-align: middle;\n",
       "    }\n",
       "\n",
       "    .dataframe tbody tr th {\n",
       "        vertical-align: top;\n",
       "    }\n",
       "\n",
       "    .dataframe thead th {\n",
       "        text-align: right;\n",
       "    }\n",
       "</style>\n",
       "<table border=\"1\" class=\"dataframe\">\n",
       "  <thead>\n",
       "    <tr style=\"text-align: right;\">\n",
       "      <th></th>\n",
       "      <th>volatile acidity</th>\n",
       "      <th>citric acid</th>\n",
       "      <th>residual sugar</th>\n",
       "      <th>chlorides</th>\n",
       "      <th>sulfur dioxide</th>\n",
       "      <th>total sulfur dioxide</th>\n",
       "      <th>density</th>\n",
       "      <th>pH</th>\n",
       "      <th>sulphates</th>\n",
       "      <th>alcohol</th>\n",
       "      <th>quality</th>\n",
       "    </tr>\n",
       "  </thead>\n",
       "  <tbody>\n",
       "    <tr>\n",
       "      <td>count</td>\n",
       "      <td>4901.000000</td>\n",
       "      <td>4901.000000</td>\n",
       "      <td>4901.000000</td>\n",
       "      <td>4901.000000</td>\n",
       "      <td>4901.000000</td>\n",
       "      <td>4901.000000</td>\n",
       "      <td>4901.000000</td>\n",
       "      <td>4901.000000</td>\n",
       "      <td>4901.000000</td>\n",
       "      <td>4901.000000</td>\n",
       "      <td>4900.000000</td>\n",
       "    </tr>\n",
       "    <tr>\n",
       "      <td>mean</td>\n",
       "      <td>0.278199</td>\n",
       "      <td>0.354468</td>\n",
       "      <td>6.389196</td>\n",
       "      <td>0.045751</td>\n",
       "      <td>35.298715</td>\n",
       "      <td>138.306162</td>\n",
       "      <td>0.993621</td>\n",
       "      <td>3.186982</td>\n",
       "      <td>0.489618</td>\n",
       "      <td>10.510178</td>\n",
       "      <td>5.877755</td>\n",
       "    </tr>\n",
       "    <tr>\n",
       "      <td>std</td>\n",
       "      <td>0.100845</td>\n",
       "      <td>1.428792</td>\n",
       "      <td>5.072222</td>\n",
       "      <td>0.021861</td>\n",
       "      <td>17.020541</td>\n",
       "      <td>42.577100</td>\n",
       "      <td>0.020300</td>\n",
       "      <td>0.164122</td>\n",
       "      <td>0.114536</td>\n",
       "      <td>1.248521</td>\n",
       "      <td>0.892437</td>\n",
       "    </tr>\n",
       "    <tr>\n",
       "      <td>min</td>\n",
       "      <td>0.000000</td>\n",
       "      <td>0.000000</td>\n",
       "      <td>0.000000</td>\n",
       "      <td>0.000000</td>\n",
       "      <td>0.000000</td>\n",
       "      <td>0.000000</td>\n",
       "      <td>0.000000</td>\n",
       "      <td>0.000000</td>\n",
       "      <td>0.000000</td>\n",
       "      <td>0.000000</td>\n",
       "      <td>0.000000</td>\n",
       "    </tr>\n",
       "    <tr>\n",
       "      <td>25%</td>\n",
       "      <td>0.210000</td>\n",
       "      <td>0.270000</td>\n",
       "      <td>1.700000</td>\n",
       "      <td>0.036000</td>\n",
       "      <td>23.000000</td>\n",
       "      <td>108.000000</td>\n",
       "      <td>0.991720</td>\n",
       "      <td>3.090000</td>\n",
       "      <td>0.410000</td>\n",
       "      <td>9.500000</td>\n",
       "      <td>5.000000</td>\n",
       "    </tr>\n",
       "    <tr>\n",
       "      <td>50%</td>\n",
       "      <td>0.260000</td>\n",
       "      <td>0.320000</td>\n",
       "      <td>5.200000</td>\n",
       "      <td>0.043000</td>\n",
       "      <td>34.000000</td>\n",
       "      <td>134.000000</td>\n",
       "      <td>0.993730</td>\n",
       "      <td>3.180000</td>\n",
       "      <td>0.470000</td>\n",
       "      <td>10.400000</td>\n",
       "      <td>6.000000</td>\n",
       "    </tr>\n",
       "    <tr>\n",
       "      <td>75%</td>\n",
       "      <td>0.320000</td>\n",
       "      <td>0.390000</td>\n",
       "      <td>9.900000</td>\n",
       "      <td>0.050000</td>\n",
       "      <td>46.000000</td>\n",
       "      <td>167.000000</td>\n",
       "      <td>0.996100</td>\n",
       "      <td>3.280000</td>\n",
       "      <td>0.550000</td>\n",
       "      <td>11.400000</td>\n",
       "      <td>6.000000</td>\n",
       "    </tr>\n",
       "    <tr>\n",
       "      <td>max</td>\n",
       "      <td>1.100000</td>\n",
       "      <td>100.000000</td>\n",
       "      <td>65.800000</td>\n",
       "      <td>0.346000</td>\n",
       "      <td>289.000000</td>\n",
       "      <td>440.000000</td>\n",
       "      <td>1.038980</td>\n",
       "      <td>3.820000</td>\n",
       "      <td>1.080000</td>\n",
       "      <td>14.200000</td>\n",
       "      <td>11.000000</td>\n",
       "    </tr>\n",
       "  </tbody>\n",
       "</table>\n",
       "</div>"
      ],
      "text/plain": [
       "       volatile acidity  citric acid  residual sugar    chlorides  \\\n",
       "count       4901.000000  4901.000000     4901.000000  4901.000000   \n",
       "mean           0.278199     0.354468        6.389196     0.045751   \n",
       "std            0.100845     1.428792        5.072222     0.021861   \n",
       "min            0.000000     0.000000        0.000000     0.000000   \n",
       "25%            0.210000     0.270000        1.700000     0.036000   \n",
       "50%            0.260000     0.320000        5.200000     0.043000   \n",
       "75%            0.320000     0.390000        9.900000     0.050000   \n",
       "max            1.100000   100.000000       65.800000     0.346000   \n",
       "\n",
       "       sulfur dioxide  total sulfur dioxide      density           pH  \\\n",
       "count     4901.000000           4901.000000  4901.000000  4901.000000   \n",
       "mean        35.298715            138.306162     0.993621     3.186982   \n",
       "std         17.020541             42.577100     0.020300     0.164122   \n",
       "min          0.000000              0.000000     0.000000     0.000000   \n",
       "25%         23.000000            108.000000     0.991720     3.090000   \n",
       "50%         34.000000            134.000000     0.993730     3.180000   \n",
       "75%         46.000000            167.000000     0.996100     3.280000   \n",
       "max        289.000000            440.000000     1.038980     3.820000   \n",
       "\n",
       "         sulphates      alcohol      quality  \n",
       "count  4901.000000  4901.000000  4900.000000  \n",
       "mean      0.489618    10.510178     5.877755  \n",
       "std       0.114536     1.248521     0.892437  \n",
       "min       0.000000     0.000000     0.000000  \n",
       "25%       0.410000     9.500000     5.000000  \n",
       "50%       0.470000    10.400000     6.000000  \n",
       "75%       0.550000    11.400000     6.000000  \n",
       "max       1.080000    14.200000    11.000000  "
      ]
     },
     "execution_count": 2,
     "metadata": {},
     "output_type": "execute_result"
    }
   ],
   "source": [
    "column_names  = [\"fixed acidity\", \"volatile acidity\", \"citric acid\", \"residual sugar\", \"chlorides\",\n",
    "                            \"sulfur dioxide\", \"total sulfur dioxide\", \"density\", \"pH\", \"sulphates\", \"alcohol\", \"quality\"]\n",
    "\n",
    "training_data = pd.read_csv(\"F:/Subjects/Spring 2020/Pattern/Project/Project 3/wine_quality.csv\", names = column_names)\n",
    "training_data.describe()"
   ]
  },
  {
   "cell_type": "markdown",
   "metadata": {},
   "source": [
    "Removing the duplicates from the data"
   ]
  },
  {
   "cell_type": "code",
   "execution_count": 3,
   "metadata": {},
   "outputs": [],
   "source": [
    "training_data = training_data.drop_duplicates()"
   ]
  },
  {
   "cell_type": "markdown",
   "metadata": {},
   "source": [
    "Remove the columns with null values"
   ]
  },
  {
   "cell_type": "code",
   "execution_count": 4,
   "metadata": {},
   "outputs": [
    {
     "data": {
      "text/html": [
       "<div>\n",
       "<style scoped>\n",
       "    .dataframe tbody tr th:only-of-type {\n",
       "        vertical-align: middle;\n",
       "    }\n",
       "\n",
       "    .dataframe tbody tr th {\n",
       "        vertical-align: top;\n",
       "    }\n",
       "\n",
       "    .dataframe thead th {\n",
       "        text-align: right;\n",
       "    }\n",
       "</style>\n",
       "<table border=\"1\" class=\"dataframe\">\n",
       "  <thead>\n",
       "    <tr style=\"text-align: right;\">\n",
       "      <th></th>\n",
       "      <th>volatile acidity</th>\n",
       "      <th>citric acid</th>\n",
       "      <th>residual sugar</th>\n",
       "      <th>chlorides</th>\n",
       "      <th>sulfur dioxide</th>\n",
       "      <th>total sulfur dioxide</th>\n",
       "      <th>density</th>\n",
       "      <th>pH</th>\n",
       "      <th>sulphates</th>\n",
       "      <th>alcohol</th>\n",
       "      <th>quality</th>\n",
       "    </tr>\n",
       "  </thead>\n",
       "  <tbody>\n",
       "    <tr>\n",
       "      <td>count</td>\n",
       "      <td>3961.000000</td>\n",
       "      <td>3961.000000</td>\n",
       "      <td>3961.000000</td>\n",
       "      <td>3961.000000</td>\n",
       "      <td>3961.000000</td>\n",
       "      <td>3961.000000</td>\n",
       "      <td>3961.000000</td>\n",
       "      <td>3961.000000</td>\n",
       "      <td>3961.000000</td>\n",
       "      <td>3961.000000</td>\n",
       "      <td>3961.000000</td>\n",
       "    </tr>\n",
       "    <tr>\n",
       "      <td>mean</td>\n",
       "      <td>0.280538</td>\n",
       "      <td>0.334332</td>\n",
       "      <td>5.914819</td>\n",
       "      <td>0.045905</td>\n",
       "      <td>34.889169</td>\n",
       "      <td>137.193512</td>\n",
       "      <td>0.993790</td>\n",
       "      <td>3.195458</td>\n",
       "      <td>0.490351</td>\n",
       "      <td>10.589358</td>\n",
       "      <td>5.854835</td>\n",
       "    </tr>\n",
       "    <tr>\n",
       "      <td>std</td>\n",
       "      <td>0.103437</td>\n",
       "      <td>0.122446</td>\n",
       "      <td>4.861646</td>\n",
       "      <td>0.023103</td>\n",
       "      <td>17.210021</td>\n",
       "      <td>43.129065</td>\n",
       "      <td>0.002905</td>\n",
       "      <td>0.151546</td>\n",
       "      <td>0.113523</td>\n",
       "      <td>1.217076</td>\n",
       "      <td>0.890683</td>\n",
       "    </tr>\n",
       "    <tr>\n",
       "      <td>min</td>\n",
       "      <td>0.080000</td>\n",
       "      <td>0.000000</td>\n",
       "      <td>0.600000</td>\n",
       "      <td>0.009000</td>\n",
       "      <td>2.000000</td>\n",
       "      <td>9.000000</td>\n",
       "      <td>0.987110</td>\n",
       "      <td>2.720000</td>\n",
       "      <td>0.220000</td>\n",
       "      <td>8.000000</td>\n",
       "      <td>3.000000</td>\n",
       "    </tr>\n",
       "    <tr>\n",
       "      <td>25%</td>\n",
       "      <td>0.210000</td>\n",
       "      <td>0.270000</td>\n",
       "      <td>1.600000</td>\n",
       "      <td>0.035000</td>\n",
       "      <td>23.000000</td>\n",
       "      <td>106.000000</td>\n",
       "      <td>0.991620</td>\n",
       "      <td>3.090000</td>\n",
       "      <td>0.410000</td>\n",
       "      <td>9.500000</td>\n",
       "      <td>5.000000</td>\n",
       "    </tr>\n",
       "    <tr>\n",
       "      <td>50%</td>\n",
       "      <td>0.260000</td>\n",
       "      <td>0.320000</td>\n",
       "      <td>4.700000</td>\n",
       "      <td>0.042000</td>\n",
       "      <td>33.000000</td>\n",
       "      <td>133.000000</td>\n",
       "      <td>0.993500</td>\n",
       "      <td>3.180000</td>\n",
       "      <td>0.480000</td>\n",
       "      <td>10.400000</td>\n",
       "      <td>6.000000</td>\n",
       "    </tr>\n",
       "    <tr>\n",
       "      <td>75%</td>\n",
       "      <td>0.330000</td>\n",
       "      <td>0.390000</td>\n",
       "      <td>8.900000</td>\n",
       "      <td>0.050000</td>\n",
       "      <td>45.000000</td>\n",
       "      <td>166.000000</td>\n",
       "      <td>0.995710</td>\n",
       "      <td>3.290000</td>\n",
       "      <td>0.550000</td>\n",
       "      <td>11.400000</td>\n",
       "      <td>6.000000</td>\n",
       "    </tr>\n",
       "    <tr>\n",
       "      <td>max</td>\n",
       "      <td>1.100000</td>\n",
       "      <td>1.660000</td>\n",
       "      <td>65.800000</td>\n",
       "      <td>0.346000</td>\n",
       "      <td>289.000000</td>\n",
       "      <td>440.000000</td>\n",
       "      <td>1.038980</td>\n",
       "      <td>3.820000</td>\n",
       "      <td>1.080000</td>\n",
       "      <td>14.200000</td>\n",
       "      <td>9.000000</td>\n",
       "    </tr>\n",
       "  </tbody>\n",
       "</table>\n",
       "</div>"
      ],
      "text/plain": [
       "       volatile acidity  citric acid  residual sugar    chlorides  \\\n",
       "count       3961.000000  3961.000000     3961.000000  3961.000000   \n",
       "mean           0.280538     0.334332        5.914819     0.045905   \n",
       "std            0.103437     0.122446        4.861646     0.023103   \n",
       "min            0.080000     0.000000        0.600000     0.009000   \n",
       "25%            0.210000     0.270000        1.600000     0.035000   \n",
       "50%            0.260000     0.320000        4.700000     0.042000   \n",
       "75%            0.330000     0.390000        8.900000     0.050000   \n",
       "max            1.100000     1.660000       65.800000     0.346000   \n",
       "\n",
       "       sulfur dioxide  total sulfur dioxide      density           pH  \\\n",
       "count     3961.000000           3961.000000  3961.000000  3961.000000   \n",
       "mean        34.889169            137.193512     0.993790     3.195458   \n",
       "std         17.210021             43.129065     0.002905     0.151546   \n",
       "min          2.000000              9.000000     0.987110     2.720000   \n",
       "25%         23.000000            106.000000     0.991620     3.090000   \n",
       "50%         33.000000            133.000000     0.993500     3.180000   \n",
       "75%         45.000000            166.000000     0.995710     3.290000   \n",
       "max        289.000000            440.000000     1.038980     3.820000   \n",
       "\n",
       "         sulphates      alcohol      quality  \n",
       "count  3961.000000  3961.000000  3961.000000  \n",
       "mean      0.490351    10.589358     5.854835  \n",
       "std       0.113523     1.217076     0.890683  \n",
       "min       0.220000     8.000000     3.000000  \n",
       "25%       0.410000     9.500000     5.000000  \n",
       "50%       0.480000    10.400000     6.000000  \n",
       "75%       0.550000    11.400000     6.000000  \n",
       "max       1.080000    14.200000     9.000000  "
      ]
     },
     "execution_count": 4,
     "metadata": {},
     "output_type": "execute_result"
    }
   ],
   "source": [
    "training_data = training_data.dropna(axis = 0, how = 'any')\n",
    "\n",
    "training_data = training_data.drop(training_data[training_data.quality == 0].index |\n",
    "                                         training_data[training_data.quality == 11].index)\n",
    "training_data.describe()"
   ]
  },
  {
   "cell_type": "markdown",
   "metadata": {},
   "source": [
    "Group by - Quality attribute"
   ]
  },
  {
   "cell_type": "code",
   "execution_count": 5,
   "metadata": {},
   "outputs": [
    {
     "data": {
      "text/html": [
       "<div>\n",
       "<style scoped>\n",
       "    .dataframe tbody tr th:only-of-type {\n",
       "        vertical-align: middle;\n",
       "    }\n",
       "\n",
       "    .dataframe tbody tr th {\n",
       "        vertical-align: top;\n",
       "    }\n",
       "\n",
       "    .dataframe thead th {\n",
       "        text-align: right;\n",
       "    }\n",
       "</style>\n",
       "<table border=\"1\" class=\"dataframe\">\n",
       "  <thead>\n",
       "    <tr style=\"text-align: right;\">\n",
       "      <th></th>\n",
       "      <th>fixed acidity</th>\n",
       "      <th>volatile acidity</th>\n",
       "      <th>citric acid</th>\n",
       "      <th>residual sugar</th>\n",
       "      <th>chlorides</th>\n",
       "      <th>sulfur dioxide</th>\n",
       "      <th>total sulfur dioxide</th>\n",
       "      <th>density</th>\n",
       "      <th>pH</th>\n",
       "      <th>sulphates</th>\n",
       "      <th>alcohol</th>\n",
       "    </tr>\n",
       "    <tr>\n",
       "      <th>quality</th>\n",
       "      <th></th>\n",
       "      <th></th>\n",
       "      <th></th>\n",
       "      <th></th>\n",
       "      <th></th>\n",
       "      <th></th>\n",
       "      <th></th>\n",
       "      <th></th>\n",
       "      <th></th>\n",
       "      <th></th>\n",
       "      <th></th>\n",
       "    </tr>\n",
       "  </thead>\n",
       "  <tbody>\n",
       "    <tr>\n",
       "      <td>3.0</td>\n",
       "      <td>20</td>\n",
       "      <td>20</td>\n",
       "      <td>20</td>\n",
       "      <td>20</td>\n",
       "      <td>20</td>\n",
       "      <td>20</td>\n",
       "      <td>20</td>\n",
       "      <td>20</td>\n",
       "      <td>20</td>\n",
       "      <td>20</td>\n",
       "      <td>20</td>\n",
       "    </tr>\n",
       "    <tr>\n",
       "      <td>4.0</td>\n",
       "      <td>153</td>\n",
       "      <td>153</td>\n",
       "      <td>153</td>\n",
       "      <td>153</td>\n",
       "      <td>153</td>\n",
       "      <td>153</td>\n",
       "      <td>153</td>\n",
       "      <td>153</td>\n",
       "      <td>153</td>\n",
       "      <td>153</td>\n",
       "      <td>153</td>\n",
       "    </tr>\n",
       "    <tr>\n",
       "      <td>5.0</td>\n",
       "      <td>1175</td>\n",
       "      <td>1175</td>\n",
       "      <td>1175</td>\n",
       "      <td>1175</td>\n",
       "      <td>1175</td>\n",
       "      <td>1175</td>\n",
       "      <td>1175</td>\n",
       "      <td>1175</td>\n",
       "      <td>1175</td>\n",
       "      <td>1175</td>\n",
       "      <td>1175</td>\n",
       "    </tr>\n",
       "    <tr>\n",
       "      <td>6.0</td>\n",
       "      <td>1788</td>\n",
       "      <td>1788</td>\n",
       "      <td>1788</td>\n",
       "      <td>1788</td>\n",
       "      <td>1788</td>\n",
       "      <td>1788</td>\n",
       "      <td>1788</td>\n",
       "      <td>1788</td>\n",
       "      <td>1788</td>\n",
       "      <td>1788</td>\n",
       "      <td>1788</td>\n",
       "    </tr>\n",
       "    <tr>\n",
       "      <td>7.0</td>\n",
       "      <td>689</td>\n",
       "      <td>689</td>\n",
       "      <td>689</td>\n",
       "      <td>689</td>\n",
       "      <td>689</td>\n",
       "      <td>689</td>\n",
       "      <td>689</td>\n",
       "      <td>689</td>\n",
       "      <td>689</td>\n",
       "      <td>689</td>\n",
       "      <td>689</td>\n",
       "    </tr>\n",
       "    <tr>\n",
       "      <td>8.0</td>\n",
       "      <td>131</td>\n",
       "      <td>131</td>\n",
       "      <td>131</td>\n",
       "      <td>131</td>\n",
       "      <td>131</td>\n",
       "      <td>131</td>\n",
       "      <td>131</td>\n",
       "      <td>131</td>\n",
       "      <td>131</td>\n",
       "      <td>131</td>\n",
       "      <td>131</td>\n",
       "    </tr>\n",
       "    <tr>\n",
       "      <td>9.0</td>\n",
       "      <td>5</td>\n",
       "      <td>5</td>\n",
       "      <td>5</td>\n",
       "      <td>5</td>\n",
       "      <td>5</td>\n",
       "      <td>5</td>\n",
       "      <td>5</td>\n",
       "      <td>5</td>\n",
       "      <td>5</td>\n",
       "      <td>5</td>\n",
       "      <td>5</td>\n",
       "    </tr>\n",
       "  </tbody>\n",
       "</table>\n",
       "</div>"
      ],
      "text/plain": [
       "         fixed acidity  volatile acidity  citric acid  residual sugar  \\\n",
       "quality                                                                 \n",
       "3.0                 20                20           20              20   \n",
       "4.0                153               153          153             153   \n",
       "5.0               1175              1175         1175            1175   \n",
       "6.0               1788              1788         1788            1788   \n",
       "7.0                689               689          689             689   \n",
       "8.0                131               131          131             131   \n",
       "9.0                  5                 5            5               5   \n",
       "\n",
       "         chlorides  sulfur dioxide  total sulfur dioxide  density    pH  \\\n",
       "quality                                                                   \n",
       "3.0             20              20                    20       20    20   \n",
       "4.0            153             153                   153      153   153   \n",
       "5.0           1175            1175                  1175     1175  1175   \n",
       "6.0           1788            1788                  1788     1788  1788   \n",
       "7.0            689             689                   689      689   689   \n",
       "8.0            131             131                   131      131   131   \n",
       "9.0              5               5                     5        5     5   \n",
       "\n",
       "         sulphates  alcohol  \n",
       "quality                      \n",
       "3.0             20       20  \n",
       "4.0            153      153  \n",
       "5.0           1175     1175  \n",
       "6.0           1788     1788  \n",
       "7.0            689      689  \n",
       "8.0            131      131  \n",
       "9.0              5        5  "
      ]
     },
     "execution_count": 5,
     "metadata": {},
     "output_type": "execute_result"
    }
   ],
   "source": [
    "training_data.groupby('quality').count()"
   ]
  },
  {
   "cell_type": "markdown",
   "metadata": {},
   "source": [
    "Selecting values row-wise in the data"
   ]
  },
  {
   "cell_type": "code",
   "execution_count": 6,
   "metadata": {},
   "outputs": [],
   "source": [
    "row_values = training_data.iloc[:, 0:11].values"
   ]
  },
  {
   "cell_type": "markdown",
   "metadata": {},
   "source": [
    "Scaling the data"
   ]
  },
  {
   "cell_type": "code",
   "execution_count": 7,
   "metadata": {},
   "outputs": [],
   "source": [
    "mm_scaler = preprocessing.MinMaxScaler()\n",
    "X = mm_scaler.fit_transform(row_values)\n",
    "\n",
    "# X = preprocessing.scale(row_values)\n",
    "\n",
    "Y = training_data['quality']"
   ]
  },
  {
   "cell_type": "markdown",
   "metadata": {},
   "source": [
    "a) Calculating the testing and training data using Scikit test-train function b) 20% data is testing data and 80% is training data c) ‘stratify’ to Y makes our training split represent the proportion of each value in the Y variable (Y - 'quality' category)"
   ]
  },
  {
   "cell_type": "code",
   "execution_count": 8,
   "metadata": {},
   "outputs": [
    {
     "name": "stdout",
     "output_type": "stream",
     "text": [
      "[[0.21153846 0.17647059 0.09036145 ... 0.32727273 0.27906977 0.12903226]\n",
      " [0.30769231 0.21568627 0.1626506  ... 0.34545455 0.34883721 0.33870968]\n",
      " [0.26923077 0.1372549  0.21686747 ... 0.43636364 0.29069767 0.61290323]\n",
      " ...\n",
      " [0.25       0.33333333 0.44578313 ... 0.36363636 0.41860465 0.16129032]\n",
      " [0.375      0.26470588 0.27710843 ... 0.12727273 0.29069767 0.16129032]\n",
      " [0.27884615 0.15686275 0.15662651 ... 0.63636364 0.23255814 0.27419355]]\n",
      "[[0.30769231 0.06862745 0.1746988  ... 0.39090909 0.1744186  0.27419355]\n",
      " [0.29807692 0.19607843 0.1626506  ... 0.63636364 0.31395349 0.4516129 ]\n",
      " [0.41346154 0.11764706 0.1686747  ... 0.18181818 0.1627907  0.5       ]\n",
      " ...\n",
      " [0.17307692 0.15196078 0.1746988  ... 0.56363636 0.3255814  0.48387097]\n",
      " [0.18269231 0.12745098 0.22289157 ... 0.51818182 0.46511628 0.41935484]\n",
      " [0.20192308 0.23529412 0.12048193 ... 0.47272727 0.22093023 0.37096774]]\n",
      "751     5.0\n",
      "4079    5.0\n",
      "3586    6.0\n",
      "2616    6.0\n",
      "1853    6.0\n",
      "       ... \n",
      "1667    6.0\n",
      "987     7.0\n",
      "2640    6.0\n",
      "4086    5.0\n",
      "3144    5.0\n",
      "Name: quality, Length: 3168, dtype: float64\n",
      "1162    6.0\n",
      "199     7.0\n",
      "1081    6.0\n",
      "3369    6.0\n",
      "1838    5.0\n",
      "       ... \n",
      "1011    6.0\n",
      "2473    5.0\n",
      "1926    7.0\n",
      "1420    6.0\n",
      "4437    6.0\n",
      "Name: quality, Length: 793, dtype: float64\n"
     ]
    }
   ],
   "source": [
    "X_train, X_test, Y_train, Y_test = train_test_split(X, Y, test_size = 0.2, random_state = 1, stratify = Y)\n",
    "print(X_train)\n",
    "print(X_test)\n",
    "print(Y_train)\n",
    "print(Y_test)"
   ]
  },
  {
   "cell_type": "markdown",
   "metadata": {},
   "source": [
    "Input the value from the user"
   ]
  },
  {
   "cell_type": "code",
   "execution_count": 9,
   "metadata": {},
   "outputs": [
    {
     "name": "stdout",
     "output_type": "stream",
     "text": [
      "Enter the value of k: 4\n",
      "k :  4\n",
      "Enter the value of T (to split the data into T groups): 5\n",
      "T :  5\n",
      "Enter the value of range 1: 1\n",
      "Range 1 :  1\n",
      "Enter the value of range 2: 25\n",
      "Range 2 :  25\n"
     ]
    }
   ],
   "source": [
    "k = int(input(\"Enter the value of k: \"))\n",
    "print(\"k : \", k)\n",
    "\n",
    "T = int(input(\"Enter the value of T (to split the data into T groups): \"))\n",
    "print(\"T : \", T)\n",
    "\n",
    "range1 = int(input(\"Enter the value of range 1: \"))\n",
    "print(\"Range 1 : \", range1)\n",
    "\n",
    "range2 = int(input(\"Enter the value of range 2: \"))\n",
    "print(\"Range 2 : \", range2)"
   ]
  },
  {
   "cell_type": "markdown",
   "metadata": {},
   "source": [
    "Calculating the k-nearest classifier using the input value k"
   ]
  },
  {
   "cell_type": "code",
   "execution_count": 10,
   "metadata": {},
   "outputs": [],
   "source": [
    "knn_result = KNeighborsClassifier(n_neighbors = k)"
   ]
  },
  {
   "cell_type": "markdown",
   "metadata": {},
   "source": [
    "Training the Model : To train our model we will use fit function and pass the training data as parameter"
   ]
  },
  {
   "cell_type": "code",
   "execution_count": 11,
   "metadata": {},
   "outputs": [
    {
     "data": {
      "text/plain": [
       "KNeighborsClassifier(algorithm='auto', leaf_size=30, metric='minkowski',\n",
       "                     metric_params=None, n_jobs=None, n_neighbors=4, p=2,\n",
       "                     weights='uniform')"
      ]
     },
     "execution_count": 11,
     "metadata": {},
     "output_type": "execute_result"
    }
   ],
   "source": [
    "knn_result.fit(X_train, Y_train)"
   ]
  },
  {
   "cell_type": "markdown",
   "metadata": {},
   "source": [
    "After training the model, use predict function to make prediction on testing data"
   ]
  },
  {
   "cell_type": "code",
   "execution_count": 12,
   "metadata": {},
   "outputs": [
    {
     "name": "stdout",
     "output_type": "stream",
     "text": [
      "Accuracy: 50.69356872635561\n"
     ]
    }
   ],
   "source": [
    "# print(\"Accuracy:\", knn_result.score(X_test, Y_test) * 100)\n",
    "Y_predict = knn_result.predict(X_test)\n",
    "\n",
    "print(\"Accuracy:\", accuracy_score(Y_test, Y_predict) * 100)"
   ]
  },
  {
   "cell_type": "markdown",
   "metadata": {},
   "source": [
    "Cross validation : For cross-validation, we are using the cross_val_score function. In this function we pass the knn_cross_validation knn result which we have computed earlier, scaled data, the dataset of the quality column (i.e. the categories of the quality) and the set of folds T.\n",
    "\n",
    "Since we have displayed two different results for different scaled data, this the score of each fold varies a little and in turn the mean of those fold data changes."
   ]
  },
  {
   "cell_type": "code",
   "execution_count": 13,
   "metadata": {},
   "outputs": [],
   "source": [
    "knn_result_cross_validation = KNeighborsClassifier(n_neighbors = k)\n",
    "cross_fold_result = cross_val_score(knn_result_cross_validation, X, Y, cv = T)"
   ]
  },
  {
   "cell_type": "markdown",
   "metadata": {},
   "source": [
    "Printing score of each group and also computing their mean"
   ]
  },
  {
   "cell_type": "code",
   "execution_count": 14,
   "metadata": {},
   "outputs": [
    {
     "name": "stdout",
     "output_type": "stream",
     "text": [
      "Score : [0.4861461  0.51450189 0.44262295 0.51453856 0.52658228]\n",
      "Mean : 49.68783550711975\n"
     ]
    }
   ],
   "source": [
    "print(\"Score :\", cross_fold_result)\n",
    "print(\"Mean :\", cross_fold_result.mean() * 100)"
   ]
  },
  {
   "cell_type": "markdown",
   "metadata": {},
   "source": [
    "Optimizing our model -- Start --"
   ]
  },
  {
   "cell_type": "code",
   "execution_count": 15,
   "metadata": {},
   "outputs": [],
   "source": [
    "knn_range = list(range(range1, range2))\n",
    "p_grid = dict(n_neighbors = knn_range)"
   ]
  },
  {
   "cell_type": "markdown",
   "metadata": {},
   "source": [
    "Calculate the K nearest classifier using the predefined function"
   ]
  },
  {
   "cell_type": "code",
   "execution_count": 16,
   "metadata": {},
   "outputs": [],
   "source": [
    "knn_result_optimized_classifier = KNeighborsClassifier()"
   ]
  },
  {
   "cell_type": "markdown",
   "metadata": {},
   "source": [
    "Using GridSearchCV, we optimize our model"
   ]
  },
  {
   "cell_type": "code",
   "execution_count": 17,
   "metadata": {},
   "outputs": [
    {
     "data": {
      "text/plain": [
       "GridSearchCV(cv=5, error_score='raise-deprecating',\n",
       "             estimator=KNeighborsClassifier(algorithm='auto', leaf_size=30,\n",
       "                                            metric='minkowski',\n",
       "                                            metric_params=None, n_jobs=None,\n",
       "                                            n_neighbors=5, p=2,\n",
       "                                            weights='uniform'),\n",
       "             iid='warn', n_jobs=None,\n",
       "             param_grid={'n_neighbors': [1, 2, 3, 4, 5, 6, 7, 8, 9, 10, 11, 12,\n",
       "                                         13, 14, 15, 16, 17, 18, 19, 20, 21, 22,\n",
       "                                         23, 24]},\n",
       "             pre_dispatch='2*n_jobs', refit=True, return_train_score=False,\n",
       "             scoring='accuracy', verbose=0)"
      ]
     },
     "execution_count": 17,
     "metadata": {},
     "output_type": "execute_result"
    }
   ],
   "source": [
    "gridSearch_knn_result = GridSearchCV(knn_result_optimized_classifier, param_grid = p_grid, cv = 5, scoring = 'accuracy')\n",
    "gridSearch_knn_result.fit(X, Y)"
   ]
  },
  {
   "cell_type": "markdown",
   "metadata": {},
   "source": [
    "Checking and printing the best k neighbor and the best score obtained by that particular K"
   ]
  },
  {
   "cell_type": "code",
   "execution_count": 18,
   "metadata": {},
   "outputs": [
    {
     "name": "stdout",
     "output_type": "stream",
     "text": [
      "Best K :  {'n_neighbors': 24}\n",
      "Best Score :  53.2441302701338\n"
     ]
    }
   ],
   "source": [
    "print(\"Best K : \", gridSearch_knn_result.best_params_)\n",
    "print(\"Best Score : \", (gridSearch_knn_result.best_score_) * 100)"
   ]
  },
  {
   "cell_type": "markdown",
   "metadata": {},
   "source": [
    "Optimizing our model -- End --"
   ]
  },
  {
   "cell_type": "markdown",
   "metadata": {},
   "source": [
    "Plotting the Graph for the k values on x-axis and the error on y-axis"
   ]
  },
  {
   "cell_type": "code",
   "execution_count": 19,
   "metadata": {},
   "outputs": [
    {
     "data": {
      "image/png": "[encoded data removed]",
      "text/plain": [
       "<Figure size 864x432 with 1 Axes>"
      ]
     },
     "metadata": {
      "needs_background": "light"
     },
     "output_type": "display_data"
    }
   ],
   "source": [
    "error = []\n",
    "for i in range(range1, range2):\n",
    "    knn = KNeighborsClassifier(n_neighbors = i)\n",
    "    knn.fit(X_train, Y_train)\n",
    "    pred_i = knn.predict(X_test)\n",
    "    error.append(np.mean(pred_i != Y_test))\n",
    "\n",
    "plt.figure(figsize=(12, 6))\n",
    "plt.plot(range(range1, range2), error, color = 'red', linestyle = 'dashed', marker = '*', markerfacecolor = 'blue', markersize = 10)\n",
    "plt.title(' Error Rate K Value')\n",
    "plt.xlabel(' Range of K ')\n",
    "plt.ylabel(' Mean Error')\n",
    "plt.show()"
   ]
  },
  {
   "cell_type": "markdown",
   "metadata": {},
   "source": [
    "----------END----------"
   ]
  }
 ],
 "metadata": {
  "kernelspec": {
   "display_name": "Python 3",
   "language": "python",
   "name": "python3"
  },
  "language_info": {
   "codemirror_mode": {
    "name": "ipython",
    "version": 3
   },
   "file_extension": ".py",
   "mimetype": "text/x-python",
   "name": "python",
   "nbconvert_exporter": "python",
   "pygments_lexer": "ipython3",
   "version": "3.7.4"
  }
 },
 "nbformat": 4,
 "nbformat_minor": 2
}
